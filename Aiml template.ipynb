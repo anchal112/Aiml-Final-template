{
  "nbformat": 4,
  "nbformat_minor": 0,
  "metadata": {
    "colab": {
      "private_outputs": true,
      "provenance": [],
      "collapsed_sections": [
        "OH-pJp9IphqM",
        "bbFf2-_FphqN",
        "_ouA3fa0phqN",
        "Seke61FWphqN",
        "Yfr_Vlr8HBkt",
        "8yEUt7NnHlrM",
        "tEA2Xm5dHt1r",
        "I79__PHVH19G",
        "Ou-I18pAyIpj",
        "fF3858GYyt-u",
        "4_0_7-oCpUZd",
        "hwyV_J3ipUZe",
        "3yB-zSqbpUZe",
        "dEUvejAfpUZe",
        "Fd15vwWVpUZf",
        "bn_IUdTipZyH",
        "49K5P_iCpZyH",
        "Nff-vKELpZyI",
        "kLW572S8pZyI",
        "dWbDXHzopZyI",
        "67NQN5KX2AMe",
        "Iwf50b-R2tYG",
        "GMQiZwjn3iu7",
        "WVIkgGqN3qsr",
        "XkPnILGE3zoT",
        "Hlsf0x5436Go",
        "mT9DMSJo4nBL",
        "c49ITxTc407N",
        "OeJFEK0N496M",
        "9ExmJH0g5HBk",
        "cJNqERVU536h",
        "k5UmGsbsOxih",
        "T0VqWOYE6DLQ",
        "qBMux9mC6MCf",
        "-oLEiFgy-5Pf",
        "C74aWNz2AliB",
        "2DejudWSA-a0",
        "pEMng2IbBLp7",
        "rAdphbQ9Bhjc",
        "TNVZ9zx19K6k",
        "nqoHp30x9hH9",
        "rMDnDkt2B6du",
        "yiiVWRdJDDil",
        "1UUpS68QDMuG",
        "kexQrXU-DjzY",
        "T5CmagL3EC8N",
        "P1XJ9OREExlT",
        "VFOzZv6IFROw",
        "TIqpNgepFxVj",
        "ArJBuiUVfxKd",
        "4qY1EAkEfxKe",
        "PiV4Ypx8fxKe",
        "TfvqoZmBfxKf",
        "dJ2tPlVmpsJ0",
        "JWYfwnehpsJ1",
        "-jK_YjpMpsJ2",
        "HAih1iBOpsJ2",
        "zVGeBEFhpsJ2",
        "bmKjuQ-FpsJ3",
        "Fze-IPXLpx6K",
        "7AN1z2sKpx6M",
        "9PIHJqyupx6M",
        "_-qAgymDpx6N",
        "Z-hykwinpx6N",
        "h_CCil-SKHpo",
        "cBFFvTBNJzUa",
        "HvGl1hHyA_VK",
        "EyNgTHvd2WFk",
        "KH5McJBi2d8v",
        "iW_Lq9qf2h6X",
        "-Kee-DAl2viO",
        "gCX9965dhzqZ",
        "gIfDvo9L0UH2"
      ],
      "cell_execution_strategy": "setup"
    },
    "kernelspec": {
      "name": "python3",
      "display_name": "Python 3"
    },
    "language_info": {
      "name": "python"
    }
  },
  "cells": [
    {
      "cell_type": "markdown",
      "source": [
        "# **Project Name**    -\n",
        "\n"
      ],
      "metadata": {
        "id": "vncDsAP0Gaoa"
      }
    },
    {
      "cell_type": "markdown",
      "source": [
        "##### **Project Type**    - Classification\n",
        "##### **Contribution**    - Team\n",
        "##### **Team Member 1 -** Anchal Gupta\n",
        "##### **Team Member 2 -**Serena Balyan\n",
        "##### **Team Member 3 -**Tanisha Mohapatra"
      ],
      "metadata": {
        "id": "beRrZCGUAJYm"
      }
    },
    {
      "cell_type": "markdown",
      "source": [
        "# **Project Summary -**\n",
        "The Wine Quality Dataset project involves an in-depth analysis of a dataset consisting of 1143 entries, each representing a distinct variety of wine. This dataset is a comprehensive collection of various chemical attributes that contribute to the overall composition of wine, including fixed acidity, volatile acidity, citric acid content, residual sugar, chlorides, free sulfur dioxide, total sulfur dioxide, density, pH level, sulphate concentration, alcohol content, and a corresponding quality rating assigned to each wine.\n",
        "\n",
        "Objectives:\n",
        "The primary goal of this project is to investigate the relationship between the chemical composition of wines and their associated quality ratings. By examining the provided attributes, researchers aim to uncover underlying patterns, correlations, and insights that may influence the perceived quality of wine. Understanding these relationships can provide valuable information for both the wine industry and consumers alike.\n",
        "\n",
        "Methodology:\n",
        "\n",
        "Exploratory Data Analysis (EDA):\n",
        "\n",
        "The project begins with exploratory data analysis to gain a comprehensive understanding of the dataset's structure and characteristics. This involves examining summary statistics, distributions, and correlations among the various attributes.\n",
        "\n",
        "Feature Engineering:\n",
        "\n",
        "Feature engineering techniques may be applied to derive new features or transform existing ones, potentially enhancing the predictive power of the model. For example, combinations of existing attributes or normalization techniques can be used to create new features.\n",
        "\n",
        "Model Development:\n",
        "\n",
        "Machine learning models, such as regression or classification algorithms, are employed to predict wine quality based on its chemical composition. These models are trained on the dataset and optimized to accurately predict quality ratings.\n",
        "\n",
        "Model Evaluation:\n",
        "\n",
        "The trained models undergo rigorous evaluation using appropriate metrics to assess their performance and generalization capabilities. Techniques such as cross-validation may be used to ensure the models' robustness and reliability.\n",
        "\n",
        "Conclusion:\n",
        "In conclusion, the Wine Quality Dataset project presents a valuable opportunity to explore the intricate relationship between wine composition and quality ratings. Through systematic analysis and modeling, researchers aim to uncover insights that may inform winemaking practices, quality assessment methodologies, and consumer preferences. By leveraging data science techniques, this project contributes to a deeper understanding of the factors influencing wine quality, ultimately benefiting both producers and consumers in the wine industry.\n",
        "\n",
        "\n",
        "\n",
        "\n",
        "\n",
        "\n"
      ],
      "metadata": {
        "id": "FJNUwmbgGyua"
      }
    },
    {
      "cell_type": "markdown",
      "source": [
        "Write the summary here within 500-600 words."
      ],
      "metadata": {
        "id": "F6v_1wHtG2nS"
      }
    },
    {
      "cell_type": "markdown",
      "source": [
        "# **GitHub Link -**"
      ],
      "metadata": {
        "id": "w6K7xa23Elo4"
      }
    },
    {
      "cell_type": "markdown",
      "source": [
        "Provide your GitHub Link here."
      ],
      "metadata": {
        "id": "h1o69JH3Eqqn"
      }
    },
    {
      "cell_type": "markdown",
      "source": [
        "# **Problem Statement**\n"
      ],
      "metadata": {
        "id": "yQaldy8SH6Dl"
      }
    },
    {
      "cell_type": "markdown",
      "source": [
        "**Write Problem Statement Here.**\n",
        "\n",
        "Problem Statement:\n",
        "Predicting Wine Quality\n",
        "\n",
        "Wine quality is influenced by various chemical properties such as acidity, residual sugar, pH level, alcohol content, and more. Understanding how these properties affect the perceived quality of wine is crucial for winemakers to produce high-quality products.\n",
        "\n",
        "Objective:\n",
        "\n",
        "The objective of this project is to build a predictive model that can accurately classify the quality of wine based on its chemical properties. By analyzing the dataset containing several physicochemical properties of wines along with their quality ratings, we aim to develop a model that can assist winemakers in assessing and improving the quality of their products."
      ],
      "metadata": {
        "id": "DpeJGUA3kjGy"
      }
    },
    {
      "cell_type": "markdown",
      "source": [
        "# **General Guidelines** : -  "
      ],
      "metadata": {
        "id": "mDgbUHAGgjLW"
      }
    },
    {
      "cell_type": "markdown",
      "source": [
        "1.   Well-structured, formatted, and commented code is required.\n",
        "2.   Exception Handling, Production Grade Code & Deployment Ready Code will be a plus. Those students will be awarded some additional credits.\n",
        "     \n",
        "     The additional credits will have advantages over other students during Star Student selection.\n",
        "       \n",
        "             [ Note: - Deployment Ready Code is defined as, the whole .ipynb notebook should be executable in one go\n",
        "                       without a single error logged. ]\n",
        "\n",
        "3.   Each and every logic should have proper comments.\n",
        "4. You may add as many number of charts you want. Make Sure for each and every chart the following format should be answered.\n",
        "        \n",
        "\n",
        "```\n",
        "# Chart visualization code\n",
        "```\n",
        "            \n",
        "\n",
        "*   Why did you pick the specific chart?\n",
        "*   What is/are the insight(s) found from the chart?\n",
        "* Will the gained insights help creating a positive business impact?\n",
        "Are there any insights that lead to negative growth? Justify with specific reason.\n",
        "\n",
        "5. You have to create at least 15 logical & meaningful charts having important insights.\n",
        "\n",
        "\n",
        "[ Hints : - Do the Vizualization in  a structured way while following \"UBM\" Rule.\n",
        "\n",
        "U - Univariate Analysis,\n",
        "\n",
        "B - Bivariate Analysis (Numerical - Categorical, Numerical - Numerical, Categorical - Categorical)\n",
        "\n",
        "M - Multivariate Analysis\n",
        " ]\n",
        "\n",
        "\n",
        "\n",
        "\n",
        "\n",
        "6. You may add more ml algorithms for model creation. Make sure for each and every algorithm, the following format should be answered.\n",
        "\n",
        "\n",
        "*   Explain the ML Model used and it's performance using Evaluation metric Score Chart.\n",
        "\n",
        "\n",
        "*   Cross- Validation & Hyperparameter Tuning\n",
        "\n",
        "*   Have you seen any improvement? Note down the improvement with updates Evaluation metric Score Chart.\n",
        "\n",
        "*   Explain each evaluation metric's indication towards business and the business impact pf the ML model used.\n",
        "\n",
        "\n",
        "\n",
        "\n",
        "\n",
        "\n",
        "\n",
        "\n",
        "\n",
        "\n",
        "\n",
        "\n",
        "\n",
        "\n",
        "\n",
        "\n",
        "\n",
        "\n"
      ],
      "metadata": {
        "id": "ZrxVaUj-hHfC"
      }
    },
    {
      "cell_type": "markdown",
      "source": [
        "# ***Let's Begin !***"
      ],
      "metadata": {
        "id": "O_i_v8NEhb9l"
      }
    },
    {
      "cell_type": "markdown",
      "source": [
        "## ***1. Know Your Data***"
      ],
      "metadata": {
        "id": "HhfV-JJviCcP"
      }
    },
    {
      "cell_type": "markdown",
      "source": [
        "### Import Libraries"
      ],
      "metadata": {
        "id": "Y3lxredqlCYt"
      }
    },
    {
      "cell_type": "code",
      "source": [
        "# Import Libraries\n",
        "import numpy as np\n",
        "import pandas as pd\n",
        "import matplotlib.pyplot as plt\n",
        "%matplotlib inline\n",
        "import seaborn as sb\n",
        "\n",
        "import warnings\n",
        "warnings.filterwarnings('ignore')\n",
        "from sklearn.model_selection import train_test_split\n",
        "from sklearn.metrics import confusion_matrix, classification_report, accuracy_score, ConfusionMatrixDisplay\n",
        "from sklearn.preprocessing import StandardScaler\n",
        "from sklearn.linear_model import LogisticRegression\n",
        "from sklearn.tree import DecisionTreeClassifier\n",
        "from sklearn.svm import SVC\n",
        "from sklearn.metrics import accuracy_score\n",
        "\n"
      ],
      "metadata": {
        "id": "M8Vqi-pPk-HR"
      },
      "execution_count": null,
      "outputs": []
    },
    {
      "cell_type": "markdown",
      "source": [
        "### Dataset Loading"
      ],
      "metadata": {
        "id": "3RnN4peoiCZX"
      }
    },
    {
      "cell_type": "code",
      "source": [
        "# Load Dataset\n",
        "from google.colab import files\n",
        "uploaded=files.upload()"
      ],
      "metadata": {
        "id": "4CkvbW_SlZ_R"
      },
      "execution_count": null,
      "outputs": []
    },
    {
      "cell_type": "markdown",
      "source": [
        "### Dataset First View"
      ],
      "metadata": {
        "id": "x71ZqKXriCWQ"
      }
    },
    {
      "cell_type": "code",
      "source": [
        "# Dataset First Look\n",
        "# Reading data from a CSV file into a DataFrame.\n",
        "df1 = pd.read_csv('WineQT.csv')\n",
        "print(df1)"
      ],
      "metadata": {
        "id": "LWNFOSvLl09H"
      },
      "execution_count": null,
      "outputs": []
    },
    {
      "cell_type": "markdown",
      "source": [
        "### Dataset Rows & Columns count"
      ],
      "metadata": {
        "id": "7hBIi_osiCS2"
      }
    },
    {
      "cell_type": "code",
      "source": [
        "# Dataset Rows & Columns count\n",
        "#To fetch the number of rows and columns in the DataFrame.\n",
        "print(df1.shape)\n",
        "print(df1.shape[0])\n",
        "print(df1.shape[1])"
      ],
      "metadata": {
        "id": "Kllu7SJgmLij"
      },
      "execution_count": null,
      "outputs": []
    },
    {
      "cell_type": "markdown",
      "source": [
        "### Dataset Information"
      ],
      "metadata": {
        "id": "JlHwYmJAmNHm"
      }
    },
    {
      "cell_type": "code",
      "source": [
        "# Dataset Info\n",
        "# Fetching information about the DataFrame's structure.\n",
        "df1.info()"
      ],
      "metadata": {
        "id": "e9hRXRi6meOf"
      },
      "execution_count": null,
      "outputs": []
    },
    {
      "cell_type": "markdown",
      "source": [
        "#### Duplicate Values"
      ],
      "metadata": {
        "id": "35m5QtbWiB9F"
      }
    },
    {
      "cell_type": "code",
      "source": [
        "# Dataset Duplicate Value Count\n",
        "# To Display the count of duplicate rows\n",
        "duplicate_counts = df1.duplicated().value_counts()\n",
        "print(\"Count of duplicate rows:\")\n",
        "print(duplicate_counts)"
      ],
      "metadata": {
        "id": "1sLdpKYkmox0"
      },
      "execution_count": null,
      "outputs": []
    },
    {
      "cell_type": "markdown",
      "source": [
        "#### Missing Values/Null Values"
      ],
      "metadata": {
        "id": "PoPl-ycgm1ru"
      }
    },
    {
      "cell_type": "code",
      "source": [
        "# Missing Values/Null Values Count\n",
        "df1.isnull().sum()"
      ],
      "metadata": {
        "id": "GgHWkxvamxVg"
      },
      "execution_count": null,
      "outputs": []
    },
    {
      "cell_type": "code",
      "source": [
        "# Visualizing the missing values\n",
        "df1.isnull()"
      ],
      "metadata": {
        "id": "3q5wnI3om9sJ"
      },
      "execution_count": null,
      "outputs": []
    },
    {
      "cell_type": "markdown",
      "source": [
        "### What did you know about your dataset?"
      ],
      "metadata": {
        "id": "H0kj-8xxnORC"
      }
    },
    {
      "cell_type": "markdown",
      "source": [
        "Answer Here\n",
        "\n",
        "Dataset appears to be related to wine quality, containing various chemical properties of wines along with a quality rating. It consists of 1143 rows and 13 columns.\n",
        "\n",
        "From the given dataset we can potentially explore relationships between these chemical properties and the quality of the wine, identifying which properties contribute most to a wine's quality rating. We can also perform predictive modeling to predict the quality of wine based on its chemical composition."
      ],
      "metadata": {
        "id": "gfoNAAC-nUe_"
      }
    },
    {
      "cell_type": "markdown",
      "source": [
        "## ***2. Understanding Your Variables***"
      ],
      "metadata": {
        "id": "nA9Y7ga8ng1Z"
      }
    },
    {
      "cell_type": "code",
      "source": [
        "# Dataset Columns\n",
        "df1.count()"
      ],
      "metadata": {
        "id": "j7xfkqrt5Ag5"
      },
      "execution_count": null,
      "outputs": []
    },
    {
      "cell_type": "code",
      "source": [
        "# Dataset Describe\n",
        "df1.describe()"
      ],
      "metadata": {
        "id": "DnOaZdaE5Q5t"
      },
      "execution_count": null,
      "outputs": []
    },
    {
      "cell_type": "markdown",
      "source": [
        "### Variables Description"
      ],
      "metadata": {
        "id": "PBTbrJXOngz2"
      }
    },
    {
      "cell_type": "markdown",
      "source": [
        "Answer Here"
      ],
      "metadata": {
        "id": "aJV4KIxSnxay"
      }
    },
    {
      "cell_type": "markdown",
      "source": [
        "### Check Unique Values for each variable."
      ],
      "metadata": {
        "id": "u3PMJOP6ngxN"
      }
    },
    {
      "cell_type": "code",
      "source": [
        "# Check Unique Values for each variable.\n",
        "import pandas as pd\n",
        "unique_values = df1.nunique()\n",
        "print(unique_values)"
      ],
      "metadata": {
        "id": "zms12Yq5n-jE"
      },
      "execution_count": null,
      "outputs": []
    },
    {
      "cell_type": "markdown",
      "source": [
        "## 3. ***Data Wrangling***"
      ],
      "metadata": {
        "id": "dauF4eBmngu3"
      }
    },
    {
      "cell_type": "markdown",
      "source": [
        "### Data Wrangling Code"
      ],
      "metadata": {
        "id": "bKJF3rekwFvQ"
      }
    },
    {
      "cell_type": "code",
      "source": [
        "df1 = df1.dropna()\n",
        "print(df1.info())\n",
        "df1.tail()"
      ],
      "metadata": {
        "id": "wk-9a2fpoLcV"
      },
      "execution_count": null,
      "outputs": []
    },
    {
      "cell_type": "code",
      "source": [
        "df1['alcohol'] = pd.to_numeric(df1['alcohol'],\n",
        "errors='coerce')  # errors='coerce' means if there is any error, it will be converted to NaN\n",
        "print(df1.isnull().sum())\n",
        "df1.info()"
      ],
      "metadata": {
        "id": "2ZRRDsfrgglx"
      },
      "execution_count": null,
      "outputs": []
    },
    {
      "cell_type": "code",
      "source": [
        "df1.duplicated().sum()"
      ],
      "metadata": {
        "id": "7FguX0e9ggpK"
      },
      "execution_count": null,
      "outputs": []
    },
    {
      "cell_type": "code",
      "source": [
        "df1.describe().T"
      ],
      "metadata": {
        "id": "OdZSkqkyg0Qd"
      },
      "execution_count": null,
      "outputs": []
    },
    {
      "cell_type": "markdown",
      "source": [
        "### What all manipulations have you done and insights you found?"
      ],
      "metadata": {
        "id": "MSa1f5Uengrz"
      }
    },
    {
      "cell_type": "markdown",
      "source": [
        "Answer Here.\n",
        "\n",
        "Based on the dataset provided, it seems like a dataset related to wine quality, with various chemical properties (such as fixed acidity, volatile acidity, citric acid, etc.) and quality ratings.\n",
        "\n",
        "Manipulations and insights that could be derived from this dataset include:\n",
        "\n",
        "Data Cleaning:\n",
        "\n",
        "Checking for missing values: We would inspect each column to ensure there are no missing values that could affect our analysis.\n",
        "\n",
        "Removing duplicate rows: If there are any duplicate rows, they should be removed to avoid skewing the analysis.\n",
        "\n",
        "Exploratory Data Analysis (EDA):\n",
        "\n",
        "Statistical summary: Calculating basic statistics like mean, median, standard deviation, etc., for each numerical column to understand the distribution and variability of data.\n",
        "Data Visualization: Creating visualizations such as histograms, box plots, or scatter plots to explore the relationships between different variables and their distributions. For instance, visualizing the distribution of wine quality ratings or the relationship between alcohol content and quality.\n",
        "\n",
        "Feature Engineering:\n",
        "\n",
        "Creating new features: Based on domain knowledge or insights gained during EDA, new features could be engineered. For example, a total sulfur dioxide to free sulfur dioxide ratio could be created to assess the balance between these two compounds.\n",
        "\n",
        "Correlation Analysis:\n",
        "\n",
        "Determining the correlation between different features and the target variable (quality). This can be done using correlation matrices or visualizations like heatmaps.\n",
        "\n",
        "Identifying significant correlations: Understanding which features have the strongest correlation with wine quality can provide insights into which factors contribute most to the overall quality rating.\n",
        "\n",
        "Insights:\n",
        "\n",
        "Identification of key factors affecting wine quality: Through data analysis and modeling, we can identify which chemical properties have the most significant impact on wine quality.\n",
        "\n",
        "Recommendations: Based on the insights gained, recommendations can be made to improve wine quality. For example, if acidity is found to strongly correlate with quality, winemakers could adjust acidity levels during production to enhance quality.\n",
        "\n",
        "These are just some of the potential manipulations and insights that could be derived from the provided dataset. The specific analyses and conclusions would depend on the goals of the analysis and the questions being addressed.\n",
        "\n",
        "\n",
        "\n",
        "\n",
        "\n"
      ],
      "metadata": {
        "id": "LbyXE7I1olp8"
      }
    },
    {
      "cell_type": "markdown",
      "source": [
        "## ***4. Data Vizualization, Storytelling & Experimenting with charts : Understand the relationships between variables***"
      ],
      "metadata": {
        "id": "GF8Ens_Soomf"
      }
    },
    {
      "cell_type": "markdown",
      "source": [
        "#### Chart - 1"
      ],
      "metadata": {
        "id": "0wOQAZs5pc--"
      }
    },
    {
      "cell_type": "code",
      "source": [
        "# Chart - 1 visualization code\n",
        "#visualization of the relationship between the quality wine and its alcohol content.\n",
        "plt.bar(df1['quality'], df1['alcohol'],color='#00bfa0')\n",
        "plt.xlabel('quality')\n",
        "plt.ylabel('alcohol')\n",
        "plt.show()"
      ],
      "metadata": {
        "id": "7v_ESjsspbW7"
      },
      "execution_count": null,
      "outputs": []
    },
    {
      "cell_type": "markdown",
      "source": [
        "##### 1. Why did you pick the specific chart?"
      ],
      "metadata": {
        "id": "K5QZ13OEpz2H"
      }
    },
    {
      "cell_type": "markdown",
      "source": [
        "Answer Here.\n",
        "A bar chart is a suitable choice here because it effectively displays discrete categories (quality ratings) against a continuous variable (alcohol content). It allows for easy comparison between different quality levels and their corresponding alcohol content."
      ],
      "metadata": {
        "id": "XESiWehPqBRc"
      }
    },
    {
      "cell_type": "markdown",
      "source": [
        "##### 2. What is/are the insight(s) found from the chart?"
      ],
      "metadata": {
        "id": "lQ7QKXXCp7Bj"
      }
    },
    {
      "cell_type": "markdown",
      "source": [
        "Answer Here\n",
        "\n",
        "Insights:\n",
        "\n",
        "It appears that higher quality ratings generally correspond to higher alcohol content, as we observe a general trend of increasing alcohol content with increasing quality ratings.\n",
        "There might be exceptions where certain quality ratings have lower alcohol content than expected."
      ],
      "metadata": {
        "id": "C_j1G7yiqdRP"
      }
    },
    {
      "cell_type": "markdown",
      "source": [
        "##### 3. Will the gained insights help creating a positive business impact?\n",
        "Are there any insights that lead to negative growth? Justify with specific reason."
      ],
      "metadata": {
        "id": "448CDAPjqfQr"
      }
    },
    {
      "cell_type": "markdown",
      "source": [
        "Positive Impact: Understanding the relationship between quality and alcohol content can help in several ways. For example, if customers prefer higher alcohol content in wines of higher quality, producers can adjust their production processes accordingly to meet consumer preferences and potentially increase customer satisfaction and loyalty.\n",
        "\n",
        "Negative Impact: If there are instances where higher quality wines actually have lower alcohol content, it could lead to dissatisfaction among consumers who expect higher alcohol content in premium wines. This could potentially lead to negative reviews, decreased sales, and damage to the brand's reputation.Answer Here"
      ],
      "metadata": {
        "id": "3cspy4FjqxJW"
      }
    },
    {
      "cell_type": "markdown",
      "source": [
        "#### Chart - 2"
      ],
      "metadata": {
        "id": "KSlN3yHqYklG"
      }
    },
    {
      "cell_type": "code",
      "source": [
        "# Chart - 2 visualization code\n",
        "#To create histograms for each column in the given DataFrames.\n",
        "df1.hist(bins=20, figsize=(10, 10),color='#beb9db')\n",
        "plt.show()"
      ],
      "metadata": {
        "id": "R4YgtaqtYklH"
      },
      "execution_count": null,
      "outputs": []
    },
    {
      "cell_type": "markdown",
      "source": [
        "##### 1. Why did you pick the specific chart?\n",
        " Histograms are suitable for visualizing the distribution of a single variable, making them useful for exploring the distribution of data within a DataFrame. The choice of 20 bins allows for a reasonable level of granularity without making the chart too cluttered or difficult to interpret."
      ],
      "metadata": {
        "id": "t6dVpIINYklI"
      }
    },
    {
      "cell_type": "markdown",
      "source": [
        "Answer Here."
      ],
      "metadata": {
        "id": "5aaW0BYyYklI"
      }
    },
    {
      "cell_type": "markdown",
      "source": [
        "##### 2. What is/are the insight(s) found from the chart?"
      ],
      "metadata": {
        "id": "ijmpgYnKYklI"
      }
    },
    {
      "cell_type": "markdown",
      "source": [
        "Answer Here\n",
        "\n",
        "Insights from the chart could include:\n",
        "\n",
        "Distribution of Data: The histogram would provide insights into the distribution of values within the DataFrame, including any skewness, central tendency, or spread.\n",
        "\n",
        "Identifying Outliers: Any outliers or unusual patterns in the data may be visually apparent in the histogram.\n",
        "\n",
        "Data Quality: It may also reveal any data quality issues such as missing values or erroneous entries."
      ],
      "metadata": {
        "id": "PSx9atu2YklI"
      }
    },
    {
      "cell_type": "markdown",
      "source": [
        "##### 3. Will the gained insights help creating a positive business impact?\n",
        "Are there any insights that lead to negative growth? Justify with specific reason."
      ],
      "metadata": {
        "id": "-JiQyfWJYklI"
      }
    },
    {
      "cell_type": "markdown",
      "source": [
        "Positive Impact: Insights gained from the chart could inform business decisions, such as targeting specific customer segments, optimizing pricing strategies, or identifying areas for process improvement.\n",
        "\n",
        "Negative Growth: If the insights reveal significant issues such as a highly skewed distribution or a large number of outliers, this could signal potential challenges or areas of concern for the business. For example, if the histogram reveals a long tail of high-value transactions, it could indicate a reliance on a small number of high-paying customers, posing a risk to revenue stability.Answer Here"
      ],
      "metadata": {
        "id": "BcBbebzrYklV"
      }
    },
    {
      "cell_type": "markdown",
      "source": [
        "#### Chart - 3"
      ],
      "metadata": {
        "id": "EM7whBJCYoAo"
      }
    },
    {
      "cell_type": "code",
      "source": [
        "# Chart - 3 visualization code\n",
        "# To plot the mean density values by quality from a DataFrame df.\n",
        "import matplotlib.pyplot as plt\n",
        "mean_density_by_quality = df1.groupby('quality')['density'].mean()\n",
        "\n",
        "#line plot:\n",
        "plt.figure(figsize=(10, 6))\n",
        "plt.plot(mean_density_by_quality.index, mean_density_by_quality.values, marker='o', linestyle='-',color='#7c1158')\n",
        "plt.title('Mean Density by Quality')\n",
        "plt.xlabel('Quality')\n",
        "plt.ylabel('Mean Density')\n",
        "plt.xticks(mean_density_by_quality.index)\n",
        "plt.grid(True)\n",
        "plt.show()\n"
      ],
      "metadata": {
        "id": "t6GMdE67YoAp"
      },
      "execution_count": null,
      "outputs": []
    },
    {
      "cell_type": "markdown",
      "source": [
        "##### 1. Why did you pick the specific chart?"
      ],
      "metadata": {
        "id": "fge-S5ZAYoAp"
      }
    },
    {
      "cell_type": "markdown",
      "source": [
        "Answer Here.\n",
        "\n",
        "The line plot is suitable for showing the trend of mean density across different quality levels. It allows for easy visualization of any patterns or trends in the data over the quality scale."
      ],
      "metadata": {
        "id": "5dBItgRVYoAp"
      }
    },
    {
      "cell_type": "markdown",
      "source": [
        "##### 2. What is/are the insight(s) found from the chart?"
      ],
      "metadata": {
        "id": "85gYPyotYoAp"
      }
    },
    {
      "cell_type": "markdown",
      "source": [
        "Answer Here\n",
        "\n",
        "Insights from the Chart: From the chart, we can gather insights such as:\n",
        "\n",
        "Whether there's a correlation between quality and density.\n",
        "Any significant changes or trends in density across different quality levels.\n",
        "Whether there are quality levels where density consistently deviates from the overall trend."
      ],
      "metadata": {
        "id": "4jstXR6OYoAp"
      }
    },
    {
      "cell_type": "markdown",
      "source": [
        "##### 3. Will the gained insights help creating a positive business impact?\n",
        "Are there any insights that lead to negative growth? Justify with specific reason."
      ],
      "metadata": {
        "id": "RoGjAbkUYoAp"
      }
    },
    {
      "cell_type": "markdown",
      "source": [
        "Answer Here\n",
        "\n",
        "Business Impact of Insights:\n",
        "\n",
        "Positive Impact: If there's a positive correlation between quality and density, businesses could use this information to improve quality control processes. For instance, they might adjust production methods to ensure higher density for higher quality products, potentially leading to improved customer satisfaction and brand reputation.\n",
        "\n",
        "Negative Impact: If the insights reveal that higher quality products have lower density or no correlation between quality and density, it could pose challenges. This might imply inefficiencies or inconsistencies in production processes that need to be addressed. However, such insights, though initially negative, could ultimately lead to positive impacts if addressed effectively. For example, identifying and rectifying production flaws could lead to higher-quality products and increased customer satisfaction in the long term."
      ],
      "metadata": {
        "id": "zfJ8IqMcYoAp"
      }
    },
    {
      "cell_type": "markdown",
      "source": [
        "#### Chart - 4"
      ],
      "metadata": {
        "id": "4Of9eVA-YrdM"
      }
    },
    {
      "cell_type": "code",
      "source": [
        "# Chart - 4 visualization code\n",
        "# To create two subplots side by side\n",
        "# ->1. Scatter plot to visualize quality vs alcohol component in wine.\n",
        "# ->2. Histogram to visualize frequency of alcohol.\n",
        "fig, ax = plt.subplots(nrows=1, ncols=2, figsize=(20, 8))\n",
        "# Scatter plot:\n",
        "ax[0].scatter(df1['quality'], df1['alcohol'], marker='o', color='#a86464')\n",
        "ax[0].grid(ls=\"--\")\n",
        "ax[0].set_xlabel('Quality')\n",
        "ax[0].set_ylabel('Alcohol')\n",
        "ax[0].set_title('Scattering Quality and Alcohol')\n",
        "\n",
        "# Histogram:\n",
        "ax[1].hist(df1['alcohol'], color='#e27c7c')\n",
        "ax[1].set_xlabel('Alcohol')\n",
        "ax[1].set_ylabel('Frequency')\n",
        "ax[1].set_title('Histogram analysis for Alcohol')\n",
        "\n",
        "plt.show()\n"
      ],
      "metadata": {
        "id": "irlUoxc8YrdO"
      },
      "execution_count": null,
      "outputs": []
    },
    {
      "cell_type": "markdown",
      "source": [
        "##### 1. Why did you pick the specific chart?"
      ],
      "metadata": {
        "id": "iky9q4vBYrdO"
      }
    },
    {
      "cell_type": "markdown",
      "source": [
        "Answer Here.\n",
        "\n",
        "We picked a scatter plot to visualize the relationship between quality and alcohol content in wine because it's suitable for showing the distribution of two continuous variables and any potential patterns or trends between them. Additionally, I chose a histogram to display the frequency distribution of alcohol content because it's effective in illustrating the distribution of a single variable.\n"
      ],
      "metadata": {
        "id": "aJRCwT6DYrdO"
      }
    },
    {
      "cell_type": "markdown",
      "source": [
        "##### 2. What is/are the insight(s) found from the chart?"
      ],
      "metadata": {
        "id": "F6T5p64dYrdO"
      }
    },
    {
      "cell_type": "markdown",
      "source": [
        "Answer Here\n",
        "\n",
        "From the scatter plot, we can see if there's any correlation between wine quality and alcohol content. If there's a discernible pattern, such as higher-quality wines tending to have higher or lower alcohol content, it could provide insights into production practices or consumer preferences.\n",
        "\n",
        "From the histogram, we can observe the distribution of alcohol content across the dataset. This can help identify common alcohol levels and potentially outliers. Understanding the distribution is essential for quality control and production decisions.\n"
      ],
      "metadata": {
        "id": "Xx8WAJvtYrdO"
      }
    },
    {
      "cell_type": "markdown",
      "source": [
        "##### 3. Will the gained insights help creating a positive business impact?\n",
        "Are there any insights that lead to negative growth? Justify with specific reason."
      ],
      "metadata": {
        "id": "y-Ehk30pYrdP"
      }
    },
    {
      "cell_type": "markdown",
      "source": [
        "Answer Here\n",
        "\n",
        "The insights gained from these charts can indeed have a positive business impact.\n",
        "\n",
        "For example:\n",
        "\n",
        "Correlation between Quality and Alcohol Content: If a positive correlation is observed between wine quality and alcohol content, winemakers could adjust their production processes to optimize alcohol levels for higher-quality wines, potentially increasing customer satisfaction and brand reputation.\n",
        "\n",
        "Understanding Alcohol Distribution: Knowing the distribution of alcohol content in wines can help winemakers tailor their product offerings to meet consumer preferences. They can adjust marketing strategies, pricing, or even develop new products targeting specific segments of the market.\n",
        "\n",
        "However, there are potential negative impacts as well:\n",
        "\n",
        "Overemphasis on Alcohol Content: If the analysis suggests a strong correlation between quality and alcohol content, there might be a temptation to prioritize alcohol levels over other factors affecting wine quality, such as grape variety, terroir, or aging process. This could lead to a homogenization of wine styles and a loss of diversity in offerings, potentially alienating certain customer segments who prefer different characteristics in their wines.\n",
        "\n",
        "\n",
        "\n",
        "\n"
      ],
      "metadata": {
        "id": "jLNxxz7MYrdP"
      }
    },
    {
      "cell_type": "markdown",
      "source": [
        "#### Chart - 5"
      ],
      "metadata": {
        "id": "bamQiAODYuh1"
      }
    },
    {
      "cell_type": "code",
      "source": [
        "# Chart - 5 visualization code\n",
        "#Histogram to analyze the distribution of the 'fixed acidity' feature from a DataFrame named 'df'.\n",
        "fig, ax = plt.subplots()\n",
        "\n",
        "# Histogram:\n",
        "ax.hist(df1['fixed acidity'],bins=10, color='#df979e')\n",
        "ax.set_xlabel('fixed acidity')\n",
        "ax.set_ylabel('Frequency')\n",
        "ax.set_title('Histogram analysis')\n",
        "ax.axis([0, 16, 0, 400])\n",
        "\n",
        "plt.show()"
      ],
      "metadata": {
        "id": "TIJwrbroYuh3"
      },
      "execution_count": null,
      "outputs": []
    },
    {
      "cell_type": "markdown",
      "source": [
        "##### 1. Why did you pick the specific chart?"
      ],
      "metadata": {
        "id": "QHF8YVU7Yuh3"
      }
    },
    {
      "cell_type": "markdown",
      "source": [
        "Answer Here.\n",
        "\n",
        "We picked a histogram because it's suitable for visualizing the distribution of a single numerical variable, such as 'fixed acidity' in this case. Histograms allow us to see the frequency or count of data points within different intervals or bins, which is useful for understanding the distribution of the variable."
      ],
      "metadata": {
        "id": "dcxuIMRPYuh3"
      }
    },
    {
      "cell_type": "markdown",
      "source": [
        "##### 2. What is/are the insight(s) found from the chart?"
      ],
      "metadata": {
        "id": "GwzvFGzlYuh3"
      }
    },
    {
      "cell_type": "markdown",
      "source": [
        "Answer Here\n",
        "\n",
        "From the histogram, we can glean several insights:\n",
        "\n",
        "Distribution of Fixed Acidity: We can observe the distribution of fixed acidity values across the dataset. By setting the number of bins to 10, we've divided the range of fixed acidity values into 10 intervals, allowing us to see how the values are spread out.\n",
        "\n",
        "Central Tendency: We can infer the central tendency of the fixed acidity values, such as whether they tend to cluster around a specific range or if they are evenly distributed across the range.\n",
        "Skewness or Symmetry: Depending on the shape of the histogram, we can identify whether the distribution is symmetric or skewed to the left or right. This provides insights into the overall pattern of fixed acidity values."
      ],
      "metadata": {
        "id": "uyqkiB8YYuh3"
      }
    },
    {
      "cell_type": "markdown",
      "source": [
        "##### 3. Will the gained insights help creating a positive business impact?\n",
        "Are there any insights that lead to negative growth? Justify with specific reason."
      ],
      "metadata": {
        "id": "qYpmQ266Yuh3"
      }
    },
    {
      "cell_type": "markdown",
      "source": [
        "Answer Here\n",
        "\n",
        "As for the impact on business:\n",
        "\n",
        "Positive Impact: If the distribution of fixed acidity is centered around a desirable range for a product (such as wine), it could inform decisions related to production processes, quality control, or marketing strategies. For example, if customers prefer wines with a certain acidity level, this information could guide product development.\n",
        "\n",
        "Negative Impact: If the histogram reveals that most of the fixed acidity values are concentrated in undesirable ranges or if there are outliers indicating quality issues, it could signal the need for process improvements or quality control measures. Addressing these issues could lead to improved product quality and customer satisfaction, ultimately benefiting the business."
      ],
      "metadata": {
        "id": "_WtzZ_hCYuh4"
      }
    },
    {
      "cell_type": "markdown",
      "source": [
        "#### Chart - 6"
      ],
      "metadata": {
        "id": "OH-pJp9IphqM"
      }
    },
    {
      "cell_type": "code",
      "source": [
        "# Chart - 6 visualization code\n",
        "#7 Bar plot to visualize the frequency of wine quality ratings.\n",
        "import seaborn as sns\n",
        "quality_counts = df1['quality'].value_counts()\n",
        "#bar plot:\n",
        "sns.barplot(x=quality_counts.index, y=quality_counts.values)\n",
        "plt.xlabel('Quality')\n",
        "plt.ylabel('Frequency')\n",
        "plt.title('Frequency of Wine Quality Ratings')\n",
        "plt.show()"
      ],
      "metadata": {
        "id": "kuRf4wtuphqN"
      },
      "execution_count": null,
      "outputs": []
    },
    {
      "cell_type": "markdown",
      "source": [
        "##### 1. Why did you pick the specific chart?"
      ],
      "metadata": {
        "id": "bbFf2-_FphqN"
      }
    },
    {
      "cell_type": "markdown",
      "source": [
        "Answer Here.\n",
        "\n",
        "We chose a bar plot because it's suitable for visualizing the frequency distribution of categorical data, such as wine quality ratings. Each quality rating is represented by a separate bar, and the height of each bar indicates the frequency of that rating."
      ],
      "metadata": {
        "id": "loh7H2nzphqN"
      }
    },
    {
      "cell_type": "markdown",
      "source": [
        "##### 2. What is/are the insight(s) found from the chart?"
      ],
      "metadata": {
        "id": "_ouA3fa0phqN"
      }
    },
    {
      "cell_type": "markdown",
      "source": [
        "Answer Here\n",
        "\n",
        "The insight gained from the chart is the distribution of wine quality ratings. This information can be used to understand the overall quality distribution of the wines in the dataset. For instance, it can help identify whether most wines are rated highly or poorly, or if there's a relatively even distribution across different quality ratings."
      ],
      "metadata": {
        "id": "VECbqPI7phqN"
      }
    },
    {
      "cell_type": "markdown",
      "source": [
        "##### 3. Will the gained insights help creating a positive business impact?\n",
        "Are there any insights that lead to negative growth? Justify with specific reason."
      ],
      "metadata": {
        "id": "Seke61FWphqN"
      }
    },
    {
      "cell_type": "markdown",
      "source": [
        "Answer Here\n",
        "\n",
        "Positive business impacts could arise if, for example, the majority of wines in the dataset are rated highly, indicating a high-quality product that could attract more customers and potentially lead to increased sales. Conversely, if there's a skew towards lower quality ratings, it might prompt the business to investigate and improve the quality of their wines to remain competitive.\n",
        "\n",
        "However, if the distribution shows a significant number of low-quality ratings without a clear explanation (such as being a dataset of inexpensive wines), it could signal a potential issue with the product quality or market perception. This could lead to negative growth if not addressed, as it may result in decreased customer satisfaction, diminished brand reputation, and ultimately lower sales."
      ],
      "metadata": {
        "id": "DW4_bGpfphqN"
      }
    },
    {
      "cell_type": "markdown",
      "source": [
        "#### Chart - 7"
      ],
      "metadata": {
        "id": "PIIx-8_IphqN"
      }
    },
    {
      "cell_type": "code",
      "source": [
        "# Chart - 7 visualization code\n",
        "#Scatter plot showing the relationship between volatile acidity and citric acid from a DataFrame df\n",
        "plt.scatter(df1['volatile acidity'].head(100), df1['citric acid'].head(100), color='#48446e', marker='o')\n",
        "plt.xlabel('Volatile Acidity')\n",
        "plt.ylabel('Citric Acid')\n",
        "plt.title('Correlation between Volatile Acidity and Citric Acid')\n",
        "plt.show()\n",
        "\n"
      ],
      "metadata": {
        "id": "lqAIGUfyphqO"
      },
      "execution_count": null,
      "outputs": []
    },
    {
      "cell_type": "markdown",
      "source": [
        "##### 1. Why did you pick the specific chart?"
      ],
      "metadata": {
        "id": "t27r6nlMphqO"
      }
    },
    {
      "cell_type": "markdown",
      "source": [
        "Answer Here.\n",
        "\n",
        "We chose a scatter plot because it effectively visualizes the relationship between two continuous variables, volatile acidity and citric acid. Each point on the plot represents a combination of these two variables, allowing for the observation of any patterns or trends in their relationship."
      ],
      "metadata": {
        "id": "iv6ro40sphqO"
      }
    },
    {
      "cell_type": "markdown",
      "source": [
        "##### 2. What is/are the insight(s) found from the chart?"
      ],
      "metadata": {
        "id": "r2jJGEOYphqO"
      }
    },
    {
      "cell_type": "markdown",
      "source": [
        "Answer Here\n",
        "\n",
        "The insights gained from the scatter plot may include:\n",
        "\n",
        "Identification of any correlation between volatile acidity and citric acid: If the points on the scatter plot exhibit a clear trend (e.g., moving from bottom-left to top-right or vice versa), it suggests a correlation between the two variables. For instance, a negative correlation would indicate that as volatile acidity increases, citric acid tends to decrease, and vice versa.\n",
        "Presence of outliers: Outlying points that do not follow the general trend of the data may indicate unusual or extreme observations, which could be of interest for further investigation.\n",
        "Clustering or grouping: Patterns may emerge where the data points cluster together, indicating potential subgroups within the data."
      ],
      "metadata": {
        "id": "Po6ZPi4hphqO"
      }
    },
    {
      "cell_type": "markdown",
      "source": [
        "##### 3. Will the gained insights help creating a positive business impact?\n",
        "Are there any insights that lead to negative growth? Justify with specific reason."
      ],
      "metadata": {
        "id": "b0JNsNcRphqO"
      }
    },
    {
      "cell_type": "markdown",
      "source": [
        "Answer Here\n",
        "\n",
        "The gained insights can potentially lead to positive business impacts:\n",
        "\n",
        "Quality control: Understanding the relationship between volatile acidity and citric acid can help in quality control processes in industries like winemaking or food production. For instance, if a negative correlation is observed, it might suggest that adjusting one variable could help in optimizing the other, leading to better product quality.\n",
        "\n",
        "Product development: Insights from the scatter plot can inform product development strategies. For example, if there is a positive correlation between volatile acidity and citric acid, it might suggest formulations where adjustments in one component can be made to achieve desired flavor profiles.\n",
        "Process optimization: In industrial processes where volatile acidity and citric acid are critical parameters, understanding their relationship can aid in process optimization efforts, leading to improved efficiency and cost savings."
      ],
      "metadata": {
        "id": "xvSq8iUTphqO"
      }
    },
    {
      "cell_type": "markdown",
      "source": [
        "#### Chart - 8"
      ],
      "metadata": {
        "id": "BZR9WyysphqO"
      }
    },
    {
      "cell_type": "code",
      "source": [
        "# Chart - 8 visualization code\n",
        "#Subplots to analyse wine quality by plotting two different types of graphs\n",
        "#->1 Pie chart to analyse wine quality\n",
        "# -> Bar plot to analyse wine quality\n",
        "quality_counts = df1['quality'].value_counts()\n",
        "\n",
        "# Pie chart:\n",
        "plt.figure(figsize=(20, 8))\n",
        "plt.subplot(1, 2, 1)\n",
        "plt.pie(quality_counts, labels=quality_counts.index, colors=['orange', 'gray'], explode=(0.1, 0, 0, 0, 0, 0), shadow=True, autopct=\"%.2f%%\")\n",
        "plt.title('Wine Quality Distribution')\n",
        "\n",
        "# Bar plot:\n",
        "plt.subplot(1, 2, 2)\n",
        "sns.barplot(x=quality_counts.index, y=quality_counts.values, palette='husl')\n",
        "plt.xlabel('Quality')\n",
        "plt.ylabel('Frequency')\n",
        "plt.title('Wine Quality Distribution')\n",
        "\n",
        "plt.show()"
      ],
      "metadata": {
        "id": "TdPTWpAVphqO"
      },
      "execution_count": null,
      "outputs": []
    },
    {
      "cell_type": "markdown",
      "source": [
        "##### 1. Why did you pick the specific chart?"
      ],
      "metadata": {
        "id": "jj7wYXLtphqO"
      }
    },
    {
      "cell_type": "markdown",
      "source": [
        "Answer Here.\n",
        "\n",
        "he pie chart was chosen to visualize the distribution of wine quality because it effectively shows the proportion of each quality category in relation to the whole. This type of chart is ideal for displaying the composition of a categorical variable like wine quality. The bar plot, on the other hand, was chosen because it allows for a comparison of the frequencies of different wine quality categories in a more straightforward manner."
      ],
      "metadata": {
        "id": "Ob8u6rCTphqO"
      }
    },
    {
      "cell_type": "markdown",
      "source": [
        "##### 2. What is/are the insight(s) found from the chart?"
      ],
      "metadata": {
        "id": "eZrbJ2SmphqO"
      }
    },
    {
      "cell_type": "markdown",
      "source": [
        "Answer Here\n",
        "\n",
        "From the charts, we can observe the following insights:\n",
        "\n",
        "Pie Chart: It provides a visual representation of the distribution of wine quality categories. We can see the proportion of each quality category relative to the total number of wines sampled.\n",
        "\n",
        "Bar Plot: This plot shows the frequency of each wine quality category in a more quantitative manner. It's easier to compare the number of wines in each quality category using this plot."
      ],
      "metadata": {
        "id": "mZtgC_hjphqO"
      }
    },
    {
      "cell_type": "markdown",
      "source": [
        "##### 3. Will the gained insights help creating a positive business impact?\n",
        "Are there any insights that lead to negative growth? Justify with specific reason."
      ],
      "metadata": {
        "id": "rFu4xreNphqO"
      }
    },
    {
      "cell_type": "markdown",
      "source": [
        "Answer Here\n",
        "\n",
        "Positive Business Impact:\n",
        "\n",
        "Understanding the distribution of wine quality can help businesses tailor their marketing strategies and product offerings. For example, if a particular quality category is more prevalent, businesses can focus on producing wines that cater to that specific segment of the market.\n",
        "By knowing which quality categories are more popular, businesses can adjust their pricing strategies accordingly. Wines of higher quality may command a premium price, while those of lower quality may be positioned as budget-friendly options.\n",
        "\n",
        "Negative Growth:\n",
        "\n",
        "While the insights gained from the charts can be valuable for decision-making, there aren't inherently negative insights from the distribution of wine quality. However, if a significant portion of the wines fall into lower quality categories, it may indicate potential issues with product quality or production processes. Addressing these issues would be necessary to prevent negative impacts on the business."
      ],
      "metadata": {
        "id": "ey_0qi68phqO"
      }
    },
    {
      "cell_type": "markdown",
      "source": [
        "#### Chart - 9"
      ],
      "metadata": {
        "id": "YJ55k-q6phqO"
      }
    },
    {
      "cell_type": "code",
      "source": [
        "# Chart - 9 visualization code\n",
        "#(a). Two subplots to visualize the relationship of fixed acidity with quality of wine\n",
        "#        ->Scatter plot\n",
        "#        ->Box plot\n",
        "#   (b). Two subplots to visualize the relationship of volatile acidity with quality of wine\n",
        "#        ->Scatter plot\n",
        "#        ->Box plot\n",
        "# Scatter plot of 'fixed acidity' vs 'quality':\n",
        "plt.figure(figsize=(14, 6))\n",
        "plt.subplot(1, 2, 1)\n",
        "plt.scatter(df1['quality'], df1['fixed acidity'], marker='.', color='blue')\n",
        "plt.xlabel('Quality')\n",
        "plt.ylabel('Fixed Acidity')\n",
        "plt.title('Relation of Fixed Acidity with Quality')\n",
        "\n",
        "# Box plot of 'fixed acidity':\n",
        "plt.subplot(1, 2, 2)\n",
        "sns.boxplot(x=df1['quality'], y=df1['fixed acidity'], color='cyan')\n",
        "plt.title(\"Box plotting of Fixed Acidity\")\n",
        "\n",
        "plt.show()\n",
        "\n",
        "# Scatter plot of 'volatile acidity' vs 'quality':\n",
        "plt.figure(figsize=(14, 6))\n",
        "plt.subplot(1, 2, 1)\n",
        "plt.scatter(df1['quality'], df1['volatile acidity'], marker='.', color='green')\n",
        "plt.xlabel('Quality')\n",
        "plt.ylabel('Volatile Acidity')\n",
        "plt.title('Relation of Volatile Acidity with Quality')\n",
        "\n",
        "# Box plot of 'volatile acidity':\n",
        "plt.subplot(1, 2, 2)\n",
        "sns.boxplot(x=df1['quality'], y=df1['volatile acidity'], color='lightgreen')\n",
        "plt.title(\"Box plotting of Volatile Acidity\")\n",
        "\n",
        "plt.show()\n"
      ],
      "metadata": {
        "id": "B2aS4O1ophqO"
      },
      "execution_count": null,
      "outputs": []
    },
    {
      "cell_type": "markdown",
      "source": [
        "##### 1. Why did you pick the specific chart?"
      ],
      "metadata": {
        "id": "gCFgpxoyphqP"
      }
    },
    {
      "cell_type": "markdown",
      "source": [
        "Answer Here.\n",
        "\n",
        "The scatter plot was chosen to visualize the relationship between fixed acidity (or volatile acidity) and the quality of wine because it helps to identify any patterns or trends in the data, particularly in terms of how the quality of wine varies with different levels of acidity. The box plot was chosen to provide a visual summary of the distribution of fixed acidity (or volatile acidity) across different quality levels, showing any potential outliers and the spread of the data."
      ],
      "metadata": {
        "id": "TVxDimi2phqP"
      }
    },
    {
      "cell_type": "markdown",
      "source": [
        "##### 2. What is/are the insight(s) found from the chart?"
      ],
      "metadata": {
        "id": "OVtJsKN_phqQ"
      }
    },
    {
      "cell_type": "markdown",
      "source": [
        "Answer Here\n",
        "\n",
        "From the scatter plot of fixed acidity versus quality, it seems that there might not be a strong linear relationship between fixed acidity and wine quality. However, it appears that wines with higher quality ratings tend to have slightly lower fixed acidity levels. Similarly, in the case of volatile acidity versus quality, there seems to be a slight trend indicating that higher quality wines have lower volatile acidity levels."
      ],
      "metadata": {
        "id": "ngGi97qjphqQ"
      }
    },
    {
      "cell_type": "markdown",
      "source": [
        "##### 3. Will the gained insights help creating a positive business impact?\n",
        "Are there any insights that lead to negative growth? Justify with specific reason."
      ],
      "metadata": {
        "id": "lssrdh5qphqQ"
      }
    },
    {
      "cell_type": "markdown",
      "source": [
        "Answer Here\n",
        "\n",
        "The insights gained from these visualizations could potentially help in making decisions related to wine production or quality control. Winemakers might aim to adjust acidity levels in their wines to optimize quality, based on the observed relationship. For instance, they could target lower acidity levels for wines intended to be of higher quality. This could lead to a positive business impact by improving the overall perception and marketability of their wines."
      ],
      "metadata": {
        "id": "tBpY5ekJphqQ"
      }
    },
    {
      "cell_type": "markdown",
      "source": [
        "#### Chart - 10"
      ],
      "metadata": {
        "id": "U2RJ9gkRphqQ"
      }
    },
    {
      "cell_type": "code",
      "source": [
        "# Chart - 10 visualization code\n",
        "#visualizing the distribution of sulphates levels from a DataFrame using a pie chart.\n",
        "sulphates_counts = df1['sulphates'].head(10).value_counts()\n",
        "plt.figure(figsize=(8, 6))\n",
        "sulphates_counts.plot(kind='pie', autopct='%1.1f%%', colors=plt.cm.tab10.colors)\n",
        "plt.title('Distribution of Sulphates Levels')\n",
        "plt.ylabel('')\n",
        "plt.show()"
      ],
      "metadata": {
        "id": "GM7a4YP4phqQ"
      },
      "execution_count": null,
      "outputs": []
    },
    {
      "cell_type": "markdown",
      "source": [
        "##### 1. Why did you pick the specific chart?"
      ],
      "metadata": {
        "id": "1M8mcRywphqQ"
      }
    },
    {
      "cell_type": "markdown",
      "source": [
        "Answer Here.\n",
        "\n",
        "The pie chart was chosen to visualize the distribution of sulphates levels because it effectively showcases the proportion of each category relative to the whole. This is particularly useful when comparing a small number of categories, as in this case where we're looking at the distribution of sulphates levels from the top 10 records in the DataFrame.\n"
      ],
      "metadata": {
        "id": "8agQvks0phqQ"
      }
    },
    {
      "cell_type": "markdown",
      "source": [
        "##### 2. What is/are the insight(s) found from the chart?"
      ],
      "metadata": {
        "id": "tgIPom80phqQ"
      }
    },
    {
      "cell_type": "markdown",
      "source": [
        "Answer Here\n",
        "\n",
        "The insights found from the chart would be the distribution of sulphates levels among the top 10 records in the DataFrame. Viewers can easily see the proportion of each sulphate level relative to the total, providing a quick understanding of the distribution pattern."
      ],
      "metadata": {
        "id": "Qp13pnNzphqQ"
      }
    },
    {
      "cell_type": "markdown",
      "source": [
        "##### 3. Will the gained insights help creating a positive business impact?\n",
        "Are there any insights that lead to negative growth? Justify with specific reason."
      ],
      "metadata": {
        "id": "JMzcOPDDphqR"
      }
    },
    {
      "cell_type": "markdown",
      "source": [
        "Answer Here\n",
        "\n",
        "Whether the gained insights will help create a positive business impact depends on the context and the goals of the business. If understanding the distribution of sulphates levels among the top records is crucial for quality control or product development, then these insights could be valuable. However, if there are unexpected patterns in the distribution (e.g., a significant portion of records with unusually high sulphates levels), it might signal quality issues that need addressing, potentially leading to negative growth if not handled appropriately. Further analysis and context are needed to determine the exact impact."
      ],
      "metadata": {
        "id": "R4Ka1PC2phqR"
      }
    },
    {
      "cell_type": "markdown",
      "source": [
        "#### Chart - 11"
      ],
      "metadata": {
        "id": "x-EpHcCOp1ci"
      }
    },
    {
      "cell_type": "code",
      "source": [
        "# Chart - 11 visualization code\n",
        "#To create a subplot grid of histograms for the columns in a DataFrame using seaborn and matplotlib.\n",
        "rows = 2\n",
        "cols = 7\n",
        "\n",
        "fig, ax = plt.subplots(nrows=rows, ncols=cols, figsize=(16, 4))\n",
        "\n",
        "col = df1.columns\n",
        "\n",
        "for i in range(rows):\n",
        "    for j in range(cols):\n",
        "        if (i * cols + j) < len(col):\n",
        "            sns.histplot(df1[col[i * cols + j]], ax=ax[i, j], kde=True)\n",
        "        else:\n",
        "            ax[i, j].axis('off')\n",
        "plt.tight_layout()\n",
        "plt.show()"
      ],
      "metadata": {
        "id": "mAQTIvtqp1cj"
      },
      "execution_count": null,
      "outputs": []
    },
    {
      "cell_type": "markdown",
      "source": [
        "##### 1. Why did you pick the specific chart?"
      ],
      "metadata": {
        "id": "X_VqEhTip1ck"
      }
    },
    {
      "cell_type": "markdown",
      "source": [
        "Answer Here.\n",
        "\n",
        "The specific chart chosen here is a histogram. Histograms are suitable for visualizing the distribution of a single variable, showing the frequency or probability density of each value within a dataset. In this case, it seems appropriate as the goal is to visualize the distribution of each column in the DataFrame."
      ],
      "metadata": {
        "id": "-vsMzt_np1ck"
      }
    },
    {
      "cell_type": "markdown",
      "source": [
        "##### 2. What is/are the insight(s) found from the chart?"
      ],
      "metadata": {
        "id": "8zGJKyg5p1ck"
      }
    },
    {
      "cell_type": "markdown",
      "source": [
        "Answer Here\n",
        "\n",
        "The insights gained from the histograms can include understanding the distribution, central tendency, spread, and potential outliers within each column of the DataFrame. For example, the histograms can reveal whether the data is normally distributed, skewed, or if there are any unusual patterns in the data distribution."
      ],
      "metadata": {
        "id": "ZYdMsrqVp1ck"
      }
    },
    {
      "cell_type": "markdown",
      "source": [
        "##### 3. Will the gained insights help creating a positive business impact?\n",
        "Are there any insights that lead to negative growth? Justify with specific reason."
      ],
      "metadata": {
        "id": "PVzmfK_Ep1ck"
      }
    },
    {
      "cell_type": "markdown",
      "source": [
        "Answer Here\n",
        "\n",
        "The insights gained from the histograms can indeed help create a positive business impact. Understanding the distribution of data can aid in making informed decisions, such as identifying areas for improvement, detecting anomalies, or optimizing processes. For instance, if a certain feature's distribution suggests a significant skew or outlier presence, it could indicate a need for further investigation or potential data preprocessing steps to improve model performance or decision-making.\n",
        "\n",
        "However, if the insights from the histograms reveal consistently poor or undesirable distributions across multiple variables, it could potentially indicate underlying issues with data quality, data collection processes, or inherent biases in the dataset. Addressing these issues could lead to a negative growth impact initially, as it may require additional resources or efforts to rectify the data problems. However, in the long term, resolving these issues would likely result in more accurate analyses and better-informed decision-making, ultimately leading to positive business outcomes.\n"
      ],
      "metadata": {
        "id": "druuKYZpp1ck"
      }
    },
    {
      "cell_type": "markdown",
      "source": [
        "#### Chart - 12"
      ],
      "metadata": {
        "id": "n3dbpmDWp1ck"
      }
    },
    {
      "cell_type": "code",
      "source": [
        "# Chart - 12 visualization code\n",
        "import matplotlib.pyplot as plt\n",
        "selected_columns = [\"fixed acidity\", \"volatile acidity\", \"citric acid\", \"residual sugar\", \"quality\"]\n",
        "for column in selected_columns:\n",
        "    plt.plot(df1[column].head(20), label=column)\n",
        "plt.xlabel(\"Index\")\n",
        "plt.ylabel(\"Values\")\n",
        "plt.title(\"Line Plot of Selected Columns\")\n",
        "plt.legend()\n",
        "plt.show()\n"
      ],
      "metadata": {
        "id": "bwevp1tKp1ck"
      },
      "execution_count": null,
      "outputs": []
    },
    {
      "cell_type": "markdown",
      "source": [
        "##### 1. Why did you pick the specific chart?"
      ],
      "metadata": {
        "id": "ylSl6qgtp1ck"
      }
    },
    {
      "cell_type": "markdown",
      "source": [
        "Answer Here.\n",
        "\n",
        "Line plot is chosen here because it's effective for visualizing trends over a continuous variable. It's suitable for displaying the variations of multiple variables over a common index."
      ],
      "metadata": {
        "id": "m2xqNkiQp1ck"
      }
    },
    {
      "cell_type": "markdown",
      "source": [
        "##### 2. What is/are the insight(s) found from the chart?"
      ],
      "metadata": {
        "id": "ZWILFDl5p1ck"
      }
    },
    {
      "cell_type": "markdown",
      "source": [
        "Answer Here\n",
        "\n",
        "Insights from the chart:\n",
        "\n",
        "We can observe the trends and patterns of the selected columns (fixed acidity, volatile acidity, citric acid, residual sugar, quality) over the first 20 rows of the dataset.\n",
        "\n",
        "We can compare the variations in values among different columns and see if there are any correlations or patterns."
      ],
      "metadata": {
        "id": "x-lUsV2mp1ck"
      }
    },
    {
      "cell_type": "markdown",
      "source": [
        "##### 3. Will the gained insights help creating a positive business impact?\n",
        "Are there any insights that lead to negative growth? Justify with specific reason."
      ],
      "metadata": {
        "id": "M7G43BXep1ck"
      }
    },
    {
      "cell_type": "markdown",
      "source": [
        "Answer Here\n",
        "\n",
        "Positive business impact:\n",
        "\n",
        "Understanding the trends and relationships between these variables can help in quality control and optimization in various industries, especially in sectors like food and beverage where these attributes (acidity, sugar content) are crucial for product quality.\n",
        "Identifying correlations between these variables and quality can guide decision-making processes for product improvement or optimization of production processes, potentially leading to increased customer satisfaction and loyalty.\n",
        "Negative growth:\n",
        "\n",
        "If the analysis reveals unfavorable trends such as consistently high volatile acidity or low quality ratings across the sampled data, it could indicate potential issues in product quality or production processes. Addressing these issues promptly is essential to prevent negative impacts on business growth, such as decreased customer satisfaction, increased product returns, or reputational damage.\n"
      ],
      "metadata": {
        "id": "5wwDJXsLp1cl"
      }
    },
    {
      "cell_type": "markdown",
      "source": [
        "#### Chart - 13"
      ],
      "metadata": {
        "id": "Ag9LCva-p1cl"
      }
    },
    {
      "cell_type": "code",
      "source": [
        "# Chart - 13 visualization code\n",
        "import matplotlib.pyplot as plt\n",
        "import pandas as pd\n",
        "\n",
        "# Assuming your dataset is stored in a variable called 'df'\n",
        "# If not, replace 'df' with your actual dataframe variable name\n",
        "\n",
        "# Selecting columns for box plots\n",
        "columns_for_boxplot = ['fixed acidity', 'volatile acidity', 'citric acid', 'residual sugar',\n",
        "                       'chlorides', 'free sulfur dioxide', 'total sulfur dioxide', 'density',\n",
        "                       'pH', 'sulphates', 'alcohol', 'quality']\n",
        "\n",
        "# Creating box plots\n",
        "plt.figure(figsize=(12, 8))\n",
        "boxplot = df1[columns_for_boxplot].boxplot()\n",
        "plt.ylim(0, 50)  # Set y-axis limits\n",
        "plt.title('Box Plot of Various Features')\n",
        "plt.xticks(rotation=45)\n",
        "plt.ylabel('Values')\n",
        "plt.xlabel('Features')\n",
        "plt.tight_layout()\n",
        "plt.show()\n"
      ],
      "metadata": {
        "id": "EUfxeq9-p1cl"
      },
      "execution_count": null,
      "outputs": []
    },
    {
      "cell_type": "markdown",
      "source": [
        "##### 1. Why did you pick the specific chart?"
      ],
      "metadata": {
        "id": "E6MkPsBcp1cl"
      }
    },
    {
      "cell_type": "markdown",
      "source": [
        "Answer Here.\n",
        "\n",
        "Box plots are chosen here because they provide a concise way to visualize the distribution and spread of multiple variables simultaneously. They show the median, quartiles, and potential outliers in the data, making it easy to compare the distributions of different features at a glance."
      ],
      "metadata": {
        "id": "V22bRsFWp1cl"
      }
    },
    {
      "cell_type": "markdown",
      "source": [
        "##### 2. What is/are the insight(s) found from the chart?"
      ],
      "metadata": {
        "id": "2cELzS2fp1cl"
      }
    },
    {
      "cell_type": "markdown",
      "source": [
        "Answer Here\n",
        "\n",
        "Insights from the box plot:\n",
        "\n",
        "It gives an overview of the spread and central tendency of each feature.\n",
        "Outliers can be identified, indicating potential data anomalies or extreme values.\n",
        "\n",
        "Comparisons between features can be made in terms of their central tendencies and variability.\n",
        "\n",
        "It provides an understanding of the range of values each feature spans.\n"
      ],
      "metadata": {
        "id": "ozQPc2_Ip1cl"
      }
    },
    {
      "cell_type": "markdown",
      "source": [
        "##### 3. Will the gained insights help creating a positive business impact?\n",
        "Are there any insights that lead to negative growth? Justify with specific reason."
      ],
      "metadata": {
        "id": "3MPXvC8up1cl"
      }
    },
    {
      "cell_type": "markdown",
      "source": [
        "Answer Here\n",
        "\n",
        "Positive business impacts:\n",
        "\n",
        "Understanding the distribution of various chemical properties in wine can help in quality control during production.\n",
        "\n",
        "Identification of outliers might signal areas for further investigation, potentially leading to process improvements.\n",
        "\n",
        "Comparisons between different quality ratings can inform marketing strategies or production adjustments to target specific quality segments more effectively.\n",
        "\n",
        "Negative growth:\n",
        "\n",
        "If the box plot reveals consistently high levels of certain undesirable properties (e.g., high volatile acidity or chlorides), it could indicate issues with product quality that might lead to negative customer feedback or decreased sales.\n",
        "\n",
        "Outliers at extreme ends of the scale may suggest problems in production or storage that need to be addressed to maintain or improve product quality and customer satisfaction.\n"
      ],
      "metadata": {
        "id": "GL8l1tdLp1cl"
      }
    },
    {
      "cell_type": "markdown",
      "source": [
        "#### Chart - 14 - Correlation Heatmap"
      ],
      "metadata": {
        "id": "NC_X3p0fY2L0"
      }
    },
    {
      "cell_type": "code",
      "source": [
        "# Correlation Heatmap visualization code\n",
        "#To create a heatmap using seaborn to visualize the correlation matrix of a DataFrame called df.\n",
        "import matplotlib.pyplot as plt\n",
        "import seaborn as sns\n",
        "\n",
        "fig = plt.figure(figsize=(12, 8))\n",
        "fig.add_subplot(1, 1, 1)\n",
        "sns.heatmap(df1.corr(), annot=True, cmap='ocean')\n",
        "plt.show()\n"
      ],
      "metadata": {
        "id": "xyC9zolEZNRQ"
      },
      "execution_count": null,
      "outputs": []
    },
    {
      "cell_type": "markdown",
      "source": [
        "##### 1. Why did you pick the specific chart?"
      ],
      "metadata": {
        "id": "UV0SzAkaZNRQ"
      }
    },
    {
      "cell_type": "markdown",
      "source": [
        "Answer Here.\n",
        "\n",
        "I chose a heatmap because it's an effective way to visualize the correlation matrix of the DataFrame. Heatmaps use colors to represent the magnitude of correlation values, making it easy to identify patterns and relationships between variables."
      ],
      "metadata": {
        "id": "DVPuT8LYZNRQ"
      }
    },
    {
      "cell_type": "markdown",
      "source": [
        "##### 2. What is/are the insight(s) found from the chart?"
      ],
      "metadata": {
        "id": "YPEH6qLeZNRQ"
      }
    },
    {
      "cell_type": "markdown",
      "source": [
        "Answer Here\n",
        "\n",
        "Insights from the chart could include:\n",
        "\n",
        "Strong positive correlations indicated by darker shades, suggesting that as one variable increases, the other tends to increase as well.\n",
        "\n",
        "Strong negative correlations indicated by lighter shades or different colors, suggesting that as one variable increases, the other tends to decrease.\n",
        "\n",
        "Weak correlations indicated by colors closer to neutral, suggesting little to no relationship between variables.\n",
        "\n",
        "\n",
        "\n",
        "\n"
      ],
      "metadata": {
        "id": "bfSqtnDqZNRR"
      }
    },
    {
      "cell_type": "markdown",
      "source": [
        "#### Chart - 15 - Pair Plot"
      ],
      "metadata": {
        "id": "q29F0dvdveiT"
      }
    },
    {
      "cell_type": "code",
      "source": [
        "# Pair Plot visualization code\n",
        "selected_data = df1[['density', 'pH',\n",
        "                      'alcohol', 'quality']]\n",
        "\n",
        "# Create the pair plot\n",
        "sns.pairplot(selected_data, diag_kind='kde', markers='*')\n",
        "plt.show()"
      ],
      "metadata": {
        "id": "o58-TEIhveiU"
      },
      "execution_count": null,
      "outputs": []
    },
    {
      "cell_type": "markdown",
      "source": [
        "##### 1. Why did you pick the specific chart?"
      ],
      "metadata": {
        "id": "EXh0U9oCveiU"
      }
    },
    {
      "cell_type": "markdown",
      "source": [
        "Answer Here.\n",
        "\n",
        "The pair plot is chosen because it allows for a quick visual examination of the relationships between pairs of variables in the dataset. With this specific plot, you can observe both the distribution of individual variables along the diagonal (using kernel density estimation, or KDE) and the scatter plots of each pair of variables against each other. This provides insights into potential correlations or patterns within the data."
      ],
      "metadata": {
        "id": "eMmPjTByveiU"
      }
    },
    {
      "cell_type": "markdown",
      "source": [
        "##### 2. What is/are the insight(s) found from the chart?"
      ],
      "metadata": {
        "id": "22aHeOlLveiV"
      }
    },
    {
      "cell_type": "markdown",
      "source": [
        "Answer Here\n",
        "\n",
        "Some insights that can be gleaned from the pair plot include:\n",
        "\n",
        "Correlation between variables: You can visually assess whether there are any apparent correlations between pairs of variables. For example, you might observe a positive or negative correlation between certain pairs of features.\n",
        "\n",
        "Distribution of variables: The diagonal plots (KDE plots) show the distribution of each variable individually. This can help in understanding the overall distribution of the data and identifying any potential outliers.\n",
        "\n",
        "Multivariate relationships: The scatter plots off the diagonal show the relationships between pairs of variables. This can help in understanding how one variable might be influenced by another.\n",
        "\n",
        "Quality assessment: Since 'quality' is included as one of the variables, you can also assess how the quality of the wine relates to other chemical properties. For example, you might find that higher quality wines tend to have certain combinations of chemical properties."
      ],
      "metadata": {
        "id": "uPQ8RGwHveiV"
      }
    },
    {
      "cell_type": "markdown",
      "source": [
        "## ***5. Hypothesis Testing***"
      ],
      "metadata": {
        "id": "g-ATYxFrGrvw"
      }
    },
    {
      "cell_type": "markdown",
      "source": [
        "### Based on your chart experiments, define three hypothetical statements from the dataset. In the next three questions, perform hypothesis testing to obtain final conclusion about the statements through your code and statistical testing."
      ],
      "metadata": {
        "id": "Yfr_Vlr8HBkt"
      }
    },
    {
      "cell_type": "markdown",
      "source": [
        "Answer Here."
      ],
      "metadata": {
        "id": "-7MS06SUHkB-"
      }
    },
    {
      "cell_type": "markdown",
      "source": [
        "### Hypothetical Statement - 1"
      ],
      "metadata": {
        "id": "8yEUt7NnHlrM"
      }
    },
    {
      "cell_type": "markdown",
      "source": [
        "#### 1. State Your research hypothesis as a null hypothesis and alternate hypothesis."
      ],
      "metadata": {
        "id": "tEA2Xm5dHt1r"
      }
    },
    {
      "cell_type": "markdown",
      "source": [
        "Answer Here."
      ],
      "metadata": {
        "id": "HI9ZP0laH0D-"
      }
    },
    {
      "cell_type": "markdown",
      "source": [
        "#### 2. Perform an appropriate statistical test."
      ],
      "metadata": {
        "id": "I79__PHVH19G"
      }
    },
    {
      "cell_type": "code",
      "source": [
        "# Perform Statistical Test to obtain P-Value"
      ],
      "metadata": {
        "id": "oZrfquKtyian"
      },
      "execution_count": null,
      "outputs": []
    },
    {
      "cell_type": "markdown",
      "source": [
        "##### Which statistical test have you done to obtain P-Value?"
      ],
      "metadata": {
        "id": "Ou-I18pAyIpj"
      }
    },
    {
      "cell_type": "markdown",
      "source": [
        "Answer Here."
      ],
      "metadata": {
        "id": "s2U0kk00ygSB"
      }
    },
    {
      "cell_type": "markdown",
      "source": [
        "##### Why did you choose the specific statistical test?"
      ],
      "metadata": {
        "id": "fF3858GYyt-u"
      }
    },
    {
      "cell_type": "markdown",
      "source": [
        "Answer Here."
      ],
      "metadata": {
        "id": "HO4K0gP5y3B4"
      }
    },
    {
      "cell_type": "markdown",
      "source": [
        "### Hypothetical Statement - 2"
      ],
      "metadata": {
        "id": "4_0_7-oCpUZd"
      }
    },
    {
      "cell_type": "markdown",
      "source": [
        "#### 1. State Your research hypothesis as a null hypothesis and alternate hypothesis."
      ],
      "metadata": {
        "id": "hwyV_J3ipUZe"
      }
    },
    {
      "cell_type": "markdown",
      "source": [
        "Answer Here."
      ],
      "metadata": {
        "id": "FnpLGJ-4pUZe"
      }
    },
    {
      "cell_type": "markdown",
      "source": [
        "#### 2. Perform an appropriate statistical test."
      ],
      "metadata": {
        "id": "3yB-zSqbpUZe"
      }
    },
    {
      "cell_type": "code",
      "source": [
        "# Perform Statistical Test to obtain P-Value"
      ],
      "metadata": {
        "id": "sWxdNTXNpUZe"
      },
      "execution_count": null,
      "outputs": []
    },
    {
      "cell_type": "markdown",
      "source": [
        "##### Which statistical test have you done to obtain P-Value?"
      ],
      "metadata": {
        "id": "dEUvejAfpUZe"
      }
    },
    {
      "cell_type": "markdown",
      "source": [
        "Answer Here."
      ],
      "metadata": {
        "id": "oLDrPz7HpUZf"
      }
    },
    {
      "cell_type": "markdown",
      "source": [
        "##### Why did you choose the specific statistical test?"
      ],
      "metadata": {
        "id": "Fd15vwWVpUZf"
      }
    },
    {
      "cell_type": "markdown",
      "source": [
        "Answer Here."
      ],
      "metadata": {
        "id": "4xOGYyiBpUZf"
      }
    },
    {
      "cell_type": "markdown",
      "source": [
        "### Hypothetical Statement - 3"
      ],
      "metadata": {
        "id": "bn_IUdTipZyH"
      }
    },
    {
      "cell_type": "markdown",
      "source": [
        "#### 1. State Your research hypothesis as a null hypothesis and alternate hypothesis."
      ],
      "metadata": {
        "id": "49K5P_iCpZyH"
      }
    },
    {
      "cell_type": "markdown",
      "source": [
        "Answer Here."
      ],
      "metadata": {
        "id": "7gWI5rT9pZyH"
      }
    },
    {
      "cell_type": "markdown",
      "source": [
        "#### 2. Perform an appropriate statistical test."
      ],
      "metadata": {
        "id": "Nff-vKELpZyI"
      }
    },
    {
      "cell_type": "code",
      "source": [
        "# Perform Statistical Test to obtain P-Value"
      ],
      "metadata": {
        "id": "s6AnJQjtpZyI"
      },
      "execution_count": null,
      "outputs": []
    },
    {
      "cell_type": "markdown",
      "source": [
        "##### Which statistical test have you done to obtain P-Value?"
      ],
      "metadata": {
        "id": "kLW572S8pZyI"
      }
    },
    {
      "cell_type": "markdown",
      "source": [
        "Answer Here."
      ],
      "metadata": {
        "id": "ytWJ8v15pZyI"
      }
    },
    {
      "cell_type": "markdown",
      "source": [
        "##### Why did you choose the specific statistical test?"
      ],
      "metadata": {
        "id": "dWbDXHzopZyI"
      }
    },
    {
      "cell_type": "markdown",
      "source": [
        "Answer Here."
      ],
      "metadata": {
        "id": "M99G98V6pZyI"
      }
    },
    {
      "cell_type": "markdown",
      "source": [
        "## ***6. Feature Engineering & Data Pre-processing***"
      ],
      "metadata": {
        "id": "yLjJCtPM0KBk"
      }
    },
    {
      "cell_type": "markdown",
      "source": [
        "### 1. Handling Missing Values"
      ],
      "metadata": {
        "id": "xiyOF9F70UgQ"
      }
    },
    {
      "cell_type": "code",
      "source": [
        "# Handling Missing Values & Missing Value Imputation\n",
        "df = df1.dropna()\n",
        "print(df.info())\n",
        "df.tail()"
      ],
      "metadata": {
        "id": "iRsAHk1K0fpS"
      },
      "execution_count": null,
      "outputs": []
    },
    {
      "cell_type": "markdown",
      "source": [
        "#### What all missing value imputation techniques have you used and why did you use those techniques?"
      ],
      "metadata": {
        "id": "7wuGOrhz0itI"
      }
    },
    {
      "cell_type": "markdown",
      "source": [
        "Answer Here."
      ],
      "metadata": {
        "id": "1ixusLtI0pqI"
      }
    },
    {
      "cell_type": "markdown",
      "source": [
        "### 2. Handling Outliers"
      ],
      "metadata": {
        "id": "id1riN9m0vUs"
      }
    },
    {
      "cell_type": "code",
      "source": [
        "# Handling Outliers & Outlier treatments\n",
        "import numpy as np\n",
        "\n",
        "def handle_outliers_iqr(df, column_name):\n",
        "  \"\"\"\n",
        "  This function identifies outliers in a column using IQR and removes them.\n",
        "\n",
        "  Args:\n",
        "      df: The pandas DataFrame containing the data.\n",
        "      column_name: The name of the column to analyze for outliers.\n",
        "\n",
        "  Returns:\n",
        "      A new DataFrame with outliers removed from the specified column.\n",
        "  \"\"\"\n",
        "  Q1 = df1[column_name].quantile(0.25)\n",
        "  Q3 = df1[column_name].quantile(0.75)\n",
        "  IQR = Q3 - Q1\n",
        "  lower_bound = Q1 - 1.5 * IQR\n",
        "  upper_bound = Q3 + 1.5 * IQR\n",
        "  return df1[(df1[column_name] > lower_bound) & (df1[column_name] < upper_bound)]\n",
        "\n",
        "# Example usage:\n",
        "df1_filtered = handle_outliers_iqr(df1.copy(), \"fixed acidity\")  # Replace \"fixed acidity\" with your column name\n",
        "# Example usage:\n",
        "df1_filtered = handle_outliers_iqr(df1.copy(), \"fixed acidity\")  # Replace \"fixed acidity\" with your column name"
      ],
      "metadata": {
        "id": "M6w2CzZf04JK"
      },
      "execution_count": null,
      "outputs": []
    },
    {
      "cell_type": "markdown",
      "source": [
        "##### What all outlier treatment techniques have you used and why did you use those techniques?"
      ],
      "metadata": {
        "id": "578E2V7j08f6"
      }
    },
    {
      "cell_type": "markdown",
      "source": [
        "This code defines a function handle_outliers_iqr that takes the data and the column name as arguments. It calculates the quartiles (Q1 and Q3) and the IQR for the chosen column. Then, it defines upper and lower bounds based on IQR. Finally, it returns a new DataFrame containing only the rows where the values in the specified column fall within these bounds (excluding outliers).Answer Here."
      ],
      "metadata": {
        "id": "uGZz5OrT1HH-"
      }
    },
    {
      "cell_type": "markdown",
      "source": [
        "### 3. Categorical Encoding"
      ],
      "metadata": {
        "id": "89xtkJwZ18nB"
      }
    },
    {
      "cell_type": "markdown",
      "source": [
        "### 8. Data Splitting"
      ],
      "metadata": {
        "id": "BhH2vgX9EjGr"
      }
    },
    {
      "cell_type": "code",
      "source": [
        "df1['quality'] = df1.quality.apply(lambda x:1 if x>=7 else 0)"
      ],
      "metadata": {
        "id": "FQzM5lwJs4Mb"
      },
      "execution_count": null,
      "outputs": []
    },
    {
      "cell_type": "code",
      "source": [
        "df1['quality'].value_counts()"
      ],
      "metadata": {
        "id": "VPzHkofTti8u"
      },
      "execution_count": null,
      "outputs": []
    },
    {
      "cell_type": "code",
      "source": [
        "X = df1.drop(columns=['quality'])  # Features\n",
        "y = df1['quality']  # Target variable\n",
        "\n",
        "# Splitting the dataset into the Training set and Test set\n",
        "X_train, X_test, y_train, y_test = train_test_split(X, y, test_size=0.3, random_state=42)\n",
        "\n",
        "# Optional: Split training data further into training and validation sets (e.g., 70/30 split)\n",
        "# X_train, X_val, y_train, y_val = train_test_split(X_train, y_train, test_size=0.3, random_state=42)\n",
        "\n",
        "# Displaying the shape of the training and testing sets\n",
        "print(\"Shape of X_train:\", X_train.shape)\n",
        "print(\"Shape of X_test:\", X_test.shape)\n",
        "print(\"Shape of y_train:\", y_train.shape)\n",
        "print(\"Shape of y_test:\", y_test.shape)"
      ],
      "metadata": {
        "id": "VPGMtNNtp-fj"
      },
      "execution_count": null,
      "outputs": []
    },
    {
      "cell_type": "code",
      "source": [
        "df1.shape"
      ],
      "metadata": {
        "id": "ZnsrMfUox3BM"
      },
      "execution_count": null,
      "outputs": []
    },
    {
      "cell_type": "markdown",
      "source": [
        "##### What data splitting ratio have you used and why?\n",
        "\n",
        "This line splits your dataset into training and testing sets.\n",
        "\n",
        "X_train and y_train are the features and target variable for the training set, respectively.\n",
        "X_test and y_test are the features and target variable for the testing set, respectively.\n",
        "test_size=0.3 means you're allocating 30% of the data for testing and 70% for training.\n",
        "random_state=42 ensures that the data split is reproducible. It means every time you run this code, you'll get the same split."
      ],
      "metadata": {
        "id": "qjKvONjwE8ra"
      }
    },
    {
      "cell_type": "markdown",
      "source": [
        "Answer Here."
      ],
      "metadata": {
        "id": "Y2lJ8cobFDb_"
      }
    },
    {
      "cell_type": "markdown",
      "source": [
        "## ***7. ML Model Implementation***"
      ],
      "metadata": {
        "id": "VfCC591jGiD4"
      }
    },
    {
      "cell_type": "markdown",
      "source": [],
      "metadata": {
        "id": "RDmzgjFSrlr7"
      }
    },
    {
      "cell_type": "markdown",
      "source": [
        "### ML Model - 1"
      ],
      "metadata": {
        "id": "OB4l2ZhMeS1U"
      }
    },
    {
      "cell_type": "code",
      "source": [
        "# ML Model - 1 Implementation\n",
        "#Logistic Regression Model\n",
        "# Fit the Algorithm\n",
        "logreg = LogisticRegression()\n",
        "logreg.fit(X_train, y_train)\n",
        "logreg_pred = logreg.predict(X_test)\n",
        "logreg_acc = accuracy_score(logreg_pred, y_test)\n",
        "print(\"test accuracy is: {:.2f}%\".format(logreg_acc*100))"
      ],
      "metadata": {
        "id": "7ebyywQieS1U"
      },
      "execution_count": null,
      "outputs": []
    },
    {
      "cell_type": "code",
      "source": [
        "print(classification_report(y_test, logreg_pred))"
      ],
      "metadata": {
        "id": "chlOSnIP4Kj8"
      },
      "execution_count": null,
      "outputs": []
    },
    {
      "cell_type": "markdown",
      "source": [
        "#### 1. Explain the ML Model used and it's performance using Evaluation metric Score Chart."
      ],
      "metadata": {
        "id": "ArJBuiUVfxKd"
      }
    },
    {
      "cell_type": "code",
      "source": [
        "# Visualizing evaluation Metric Score chart\n",
        "# Logistic Regression is a classification algorithm used to model the probability of a certain class or event occurring based on input features. Despite its name, logistic regression is used for binary classification tasks, but it can be extended for multiclass classification through techniques like one-vs-rest or softmax regression.\n",
        "\n",
        "# In this case, your logistic regression model is trained to predict wine quality categories based on features such as fixed acidity, volatile acidity, citric acid, etc. The model estimates the probability that a given wine belongs to a certain quality category, and then makes predictions based on these probabilities.\n",
        "# style.use('classic')\n",
        "cm = confusion_matrix(y_test, logreg_pred, labels=logreg.classes_)\n",
        "disp = ConfusionMatrixDisplay(confusion_matrix= cm, display_labels=logreg.classes_)\n",
        "disp.plot()\n",
        "print(\"TN: \", cm[0][0])\n",
        "print(\"FN: \", cm[1][0])\n",
        "print(\"TP: \", cm[1][1])\n",
        "print(\"FP: \", cm[0][1])"
      ],
      "metadata": {
        "id": "rqD5ZohzfxKe"
      },
      "execution_count": null,
      "outputs": []
    },
    {
      "cell_type": "markdown",
      "source": [
        "#### 2. Cross- Validation & Hyperparameter Tuning"
      ],
      "metadata": {
        "id": "4qY1EAkEfxKe"
      }
    },
    {
      "cell_type": "code",
      "source": [
        "# ML Model - 1 Implementation with hyperparameter optimization techniques (i.e., GridSearch CV, RandomSearch CV, Bayesian Optimization etc.)\n",
        "\n",
        "# Fit the Algorithm\n",
        "\n",
        "# Predict on the model"
      ],
      "metadata": {
        "id": "Dy61ujd6fxKe"
      },
      "execution_count": null,
      "outputs": []
    },
    {
      "cell_type": "markdown",
      "source": [
        "##### Which hyperparameter optimization technique have you used and why?"
      ],
      "metadata": {
        "id": "PiV4Ypx8fxKe"
      }
    },
    {
      "cell_type": "markdown",
      "source": [
        "Answer Here."
      ],
      "metadata": {
        "id": "negyGRa7fxKf"
      }
    },
    {
      "cell_type": "markdown",
      "source": [
        "##### Have you seen any improvement? Note down the improvement with updates Evaluation metric Score Chart."
      ],
      "metadata": {
        "id": "TfvqoZmBfxKf"
      }
    },
    {
      "cell_type": "markdown",
      "source": [
        "Answer Here."
      ],
      "metadata": {
        "id": "OaLui8CcfxKf"
      }
    },
    {
      "cell_type": "markdown",
      "source": [
        "### ML Model - 2"
      ],
      "metadata": {
        "id": "dJ2tPlVmpsJ0"
      }
    },
    {
      "cell_type": "markdown",
      "source": [
        "#### 1. Explain the ML Model used and it's performance using Evaluation metric Score Chart."
      ],
      "metadata": {
        "id": "JWYfwnehpsJ1"
      }
    },
    {
      "cell_type": "code",
      "source": [
        "# Visualizing evaluation Metric Score chart\n",
        "#Decision tree\n",
        "# A Decision Tree is a tree-like structure where each internal node represents a feature, each branch represents a decision based on that feature, and each leaf node represents a class label (in classification) or a value (in regression). Decision Trees are versatile and easy to interpret, making them popular for both classification and regression tasks.\n",
        "\n",
        "# In this case, your Decision Tree model is trained to predict wine quality categories based on features similar to the Logistic Regression model. The tree splits the data into subsets based on features, aiming to minimize impurity (such as Gini impurity or entropy) at each node.\n",
        "dtree = DecisionTreeClassifier()\n",
        "dtree.fit(X_train, y_train)\n",
        "dtree_pred = dtree.predict(X_test)\n",
        "dtree_acc = accuracy_score(dtree_pred, y_test)\n",
        "print(\"Test accuracy: {:.2f}%\".format(dtree_acc*100))"
      ],
      "metadata": {
        "id": "yEl-hgQWpsJ1"
      },
      "execution_count": null,
      "outputs": []
    },
    {
      "cell_type": "code",
      "source": [
        "print(classification_report(y_test, dtree_pred))"
      ],
      "metadata": {
        "id": "6y_-NYLhP9bG"
      },
      "execution_count": null,
      "outputs": []
    },
    {
      "cell_type": "code",
      "source": [
        "# style.use('classic')\n",
        "cm = confusion_matrix(y_test, dtree_pred, labels=dtree.classes_)\n",
        "disp = ConfusionMatrixDisplay(confusion_matrix= cm, display_labels=dtree.classes_)\n",
        "disp.plot()\n",
        "print(\"TN: \", cm[0][0])\n",
        "print(\"FN: \", cm[1][0])\n",
        "print(\"TP: \", cm[1][1])\n",
        "print(\"FP: \", cm[0][1])"
      ],
      "metadata": {
        "id": "K6rBQ4tUP9i_"
      },
      "execution_count": null,
      "outputs": []
    },
    {
      "cell_type": "markdown",
      "source": [
        "#### 2. Cross- Validation & Hyperparameter Tuning"
      ],
      "metadata": {
        "id": "-jK_YjpMpsJ2"
      }
    },
    {
      "cell_type": "code",
      "source": [
        "# ML Model - 1 Implementation with hyperparameter optimization techniques (i.e., GridSearch CV, RandomSearch CV, Bayesian Optimization etc.)\n",
        "\n",
        "# Fit the Algorithm\n",
        "\n",
        "# Predict on the model"
      ],
      "metadata": {
        "id": "Dn0EOfS6psJ2"
      },
      "execution_count": null,
      "outputs": []
    },
    {
      "cell_type": "markdown",
      "source": [
        "##### Which hyperparameter optimization technique have you used and why?"
      ],
      "metadata": {
        "id": "HAih1iBOpsJ2"
      }
    },
    {
      "cell_type": "markdown",
      "source": [
        "Answer Here."
      ],
      "metadata": {
        "id": "9kBgjYcdpsJ2"
      }
    },
    {
      "cell_type": "markdown",
      "source": [
        "##### Have you seen any improvement? Note down the improvement with updates Evaluation metric Score Chart."
      ],
      "metadata": {
        "id": "zVGeBEFhpsJ2"
      }
    },
    {
      "cell_type": "markdown",
      "source": [
        "Answer Here."
      ],
      "metadata": {
        "id": "74yRdG6UpsJ3"
      }
    },
    {
      "cell_type": "markdown",
      "source": [
        "#### 3. Explain each evaluation metric's indication towards business and the business impact pf the ML model used."
      ],
      "metadata": {
        "id": "bmKjuQ-FpsJ3"
      }
    },
    {
      "cell_type": "markdown",
      "source": [
        "Answer Here."
      ],
      "metadata": {
        "id": "BDKtOrBQpsJ3"
      }
    },
    {
      "cell_type": "markdown",
      "source": [
        "### ML Model - 3"
      ],
      "metadata": {
        "id": "Fze-IPXLpx6K"
      }
    },
    {
      "cell_type": "code",
      "source": [
        "# ML Model - 3 Implementation\n",
        "\n",
        "# Fit the Algorithm\n",
        "svm = SVC()\n",
        "svm.fit(X_train, y_train)\n",
        "svm_pred = svm.predict(X_test)\n",
        "accuracy = accuracy_score(y_test, svm_pred)\n",
        "precision = classification_report(y_test, svm_pred)\n",
        "\n",
        "# Print evaluation metrics\n",
        "print(\"Test accuracy: {:.2f}%\".format(accuracy*100))\n",
        "# print(\"Precision: {:.2f}\".format(precision))\n",
        "\n",
        "# Make predictions on the test set\n",
        "\n",
        "# Predict on the model"
      ],
      "metadata": {
        "id": "FFrSXAtrpx6M"
      },
      "execution_count": null,
      "outputs": []
    },
    {
      "cell_type": "markdown",
      "source": [
        "#### 1. Explain the ML Model used and it's performance using Evaluation metric Score Chart.\n",
        "\n",
        "Support Vector Machine (SVM) is a powerful supervised learning algorithm used for classification, regression, and outlier detection. In classification tasks, SVM separates data points into different classes by finding the hyperplane that maximizes the margin between the classes. It works well in high-dimensional spaces and is effective even in cases where the number of dimensions exceeds the number of samples."
      ],
      "metadata": {
        "id": "7AN1z2sKpx6M"
      }
    },
    {
      "cell_type": "code",
      "source": [
        "# Visualizing evaluation Metric Score chart\n",
        "cm = confusion_matrix(y_test, svm_pred)\n",
        "disp = ConfusionMatrixDisplay(confusion_matrix=cm, display_labels=svm.classes_)\n",
        "\n",
        "# Plot confusion matrix\n",
        "plt.figure(figsize=(8, 6))\n",
        "disp.plot(cmap='Blues')\n",
        "plt.title(\"Confusion Matrix\")\n",
        "plt.xlabel(\"Predicted Label\")\n",
        "plt.ylabel(\"True Label\")\n",
        "plt.show()"
      ],
      "metadata": {
        "id": "xIY4lxxGpx6M"
      },
      "execution_count": null,
      "outputs": []
    },
    {
      "cell_type": "markdown",
      "source": [
        "#### 2. Cross- Validation & Hyperparameter Tuning"
      ],
      "metadata": {
        "id": "9PIHJqyupx6M"
      }
    },
    {
      "cell_type": "code",
      "source": [
        "# ML Model - 3 Implementation with hyperparameter optimization techniques (i.e., GridSearch CV, RandomSearch CV, Bayesian Optimization etc.)\n",
        "\n",
        "# Fit the Algorithm\n",
        "\n",
        "# Predict on the model"
      ],
      "metadata": {
        "id": "eSVXuaSKpx6M"
      },
      "execution_count": null,
      "outputs": []
    },
    {
      "cell_type": "markdown",
      "source": [
        "##### Which hyperparameter optimization technique have you used and why?"
      ],
      "metadata": {
        "id": "_-qAgymDpx6N"
      }
    },
    {
      "cell_type": "markdown",
      "source": [
        "Answer Here."
      ],
      "metadata": {
        "id": "lQMffxkwpx6N"
      }
    },
    {
      "cell_type": "markdown",
      "source": [
        "##### Have you seen any improvement? Note down the improvement with updates Evaluation metric Score Chart."
      ],
      "metadata": {
        "id": "Z-hykwinpx6N"
      }
    },
    {
      "cell_type": "markdown",
      "source": [
        "Answer Here."
      ],
      "metadata": {
        "id": "MzVzZC6opx6N"
      }
    },
    {
      "cell_type": "markdown",
      "source": [
        "### 1. Which Evaluation metrics did you consider for a positive business impact and why?"
      ],
      "metadata": {
        "id": "h_CCil-SKHpo"
      }
    },
    {
      "cell_type": "markdown",
      "source": [
        "Answer Here.\n",
        "One evaluation metric that would have a positive business impact is Precision.\n",
        "\n",
        "Precision measures the proportion of correctly predicted positive cases among all predicted positive cases. High precision indicates that the model is making fewer false positive predictions, which is crucial in scenarios where false positives have significant consequences (e.g., medical diagnosis, fraud detection). Maximizing precision can help minimize unnecessary costs or risks associated with false positive predictions"
      ],
      "metadata": {
        "id": "jHVz9hHDKFms"
      }
    },
    {
      "cell_type": "markdown",
      "source": [
        "### 2. Which ML model did you choose from the above created models as your final prediction model and why?\n",
        "\n",
        "For the final prediction model, I would choose the Support Vector Machine (SVM) model.\n",
        "\n",
        "I chose SVM because:\n",
        "\n",
        "Performance: SVM typically provides good performance, especially in high-dimensional spaces, which is suitable for our dataset with multiple features.\n",
        "\n",
        "Robustness: SVM is effective in handling datasets with a small number of samples compared to the number of features. It's less prone to overfitting, which is beneficial when dealing with limited data.\n",
        "\n",
        "Flexibility: SVM offers flexibility through different kernel functions (linear, polynomial, radial basis function) which can capture complex relationships in the data.\n",
        "\n",
        "Balanced Performance: SVM considers a balance between maximizing margin and minimizing classification error, providing a good balance between bias and variance.\n",
        "\n",
        "Interpretability: While SVM might not be as interpretable as decision trees, it still provides some insights into the importance of features through support vectors."
      ],
      "metadata": {
        "id": "cBFFvTBNJzUa"
      }
    },
    {
      "cell_type": "markdown",
      "source": [
        "Answer Here."
      ],
      "metadata": {
        "id": "6ksF5Q1LKTVm"
      }
    },
    {
      "cell_type": "markdown",
      "source": [
        "### 3. Explain the model which you have used and the feature importance using any model explainability tool?"
      ],
      "metadata": {
        "id": "HvGl1hHyA_VK"
      }
    },
    {
      "cell_type": "markdown",
      "source": [
        "Answer Here.\n",
        "\n",
        "The model I used for the final prediction is the Support Vector Machine (SVM). SVM is a powerful supervised learning algorithm used for classification tasks. It works by finding the hyperplane that best separates the data points of different classes in the feature space.\n",
        "\n",
        "To explain the model and feature importance, I will use the SHAP (SHapley Additive exPlanations) library, which is a model-agnostic method for explaining predictions of any machine learning model. SHAP values provide a way to explain individual predictions by calculating the contribution of each feature to the prediction.\n"
      ],
      "metadata": {
        "id": "YnvVTiIxBL-C"
      }
    },
    {
      "cell_type": "markdown",
      "source": [
        "# **Conclusion**"
      ],
      "metadata": {
        "id": "gCX9965dhzqZ"
      }
    },
    {
      "cell_type": "markdown",
      "source": [
        "Write the conclusion here.\n",
        "In this project, we utilized a wine quality dataset to build a predictive model for determining wine quality based on various chemical properties. By employing logistic regression, we aimed to classify wines into different quality categories and explore the impact of various features on wine quality.\n",
        "\n",
        "Key Findings:\n",
        "Feature Importance: Through our analysis, it was evident that certain features like alcohol content, volatile acidity, and sulphates had significant impacts on the quality scores of wines. These insights can guide winemakers in adjusting these properties to enhance wine quality.\n",
        "Class Imbalance: The dataset exhibited a class imbalance, with most wines clustered around quality scores 5 and 6. This imbalance can influence model performance, often leading to biased predictions towards the majority classes.\n",
        "Model Performance: Despite the class imbalance, the logistic regression model performed reasonably well, demonstrating its ability to classify wines into quality categories with a certain level of accuracy. However, performance metrics suggested the need for improvement, especially in predicting minority classes.\n",
        "Model Limitations: Logistic regression, while useful, has limitations in handling non-linear relationships and complex patterns within the data. This limitation highlights the potential benefits of exploring more advanced machine learning models like Random Forest, SVM, or ensemble methods."
      ],
      "metadata": {
        "id": "Fjb1IsQkh3yE"
      }
    },
    {
      "cell_type": "markdown",
      "source": [
        "### ***Hurrah! You have successfully completed your Machine Learning Capstone Project !!!***"
      ],
      "metadata": {
        "id": "gIfDvo9L0UH2"
      }
    }
  ]
}